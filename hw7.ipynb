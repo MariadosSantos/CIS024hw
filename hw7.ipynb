{
 "cells": [
  {
   "cell_type": "markdown",
   "metadata": {},
   "source": [
    "\n",
    "# CIS024C - Spring 2018 - Monday 5:30-9:25pm \n",
    "\n",
    "## Homework 7\n",
    "\n",
    "Homework 7 covers exercises that involve Exception Handling\n",
    "\n",
    "The below sites have some interesting and useful information on working with files\n",
    "\n",
    "* Errors and Exceptions: https://docs.python.org/2/tutorial/errors.html\n",
    "* Built-in Exceptions: https://docs.python.org/2/library/exceptions.html\n",
    "\n",
    "You will need to download this notebook and use this as a starting point for your homework. You will just need to fill in the content of each code-block (cell) and execute. Once you have completed all the exercises, you will need to save and upload this to your github repository under a folder called hw7.\n",
    "\n",
    "Note also the exercises build on top of one another so you might be able to do the next exercise if you have not completed the previous exercise.\n",
    "\n",
    "Post any questions you have on our Slack at **cis-024c1.slack.com**\n",
    "\n",
    "** Slides ** for Week 7 can be found at \n",
    "\n",
    "https://docs.google.com/presentation/d/1HcWIuVciM0_L935Umi5rPgQHJYIv1bNfYnErfOelbtw/edit?usp=sharing\n",
    "\n",
    "**Please refer back to hw1 and slack for instructions on how to setup your computer for developing using Python.**"
   ]
  },
  {
   "cell_type": "markdown",
   "metadata": {},
   "source": [
    "### Helpful Jupyter Commands\n",
    "\n",
    "Below are some useful commands to know when using Jupyter\n",
    "\n",
    "1. You can add a new cell by clicking on the \"+\" icon on top.\n",
    "2. You can delete a cell by selecting that cell and clicking on the \"scissors\" icon on top.\n",
    "3. You can execute a cell by either pressing shift+enter or selecting the \"play\" button on top.\n",
    "4. You can create a new file in Jupyter via the File menu->New Notebook option. Make sure to select Python 2 when creating your notebook.\n",
    "5. Also, for your code blocks make sure that Code is selected instead of another option like Markdown.\n",
    "6. Use the Enter key to go to the next line in a cell to enter the next statement.\n",
    "7. You can clear results by clicking on the Cell menu item and selecting Current Output->Clear or All Output->Clear depending on whether you are trying to just clear the output for one cell or for all cells.\n",
    "8. In case your program has crashed for some reason (infinite loop, for example), you can restart your Python session by select Kernel in the menu and selecting Restart.\n"
   ]
  },
  {
   "cell_type": "markdown",
   "metadata": {},
   "source": [
    "#### Check Python Version"
   ]
  },
  {
   "cell_type": "code",
   "execution_count": 1,
   "metadata": {},
   "outputs": [
    {
     "name": "stdout",
     "output_type": "stream",
     "text": [
      "Python 2.7.14 :: Anaconda, Inc.\r\n"
     ]
    }
   ],
   "source": [
    "!python --version"
   ]
  },
  {
   "cell_type": "markdown",
   "metadata": {},
   "source": [
    "#### Sample Exercises with Exception Handling\n",
    "\n",
    "Week 7 Class Work can be found here https://github.com/cis024c/spring2018classwork/blob/master/week7/week7_classwork.ipynb"
   ]
  },
  {
   "cell_type": "markdown",
   "metadata": {},
   "source": [
    "**Exercise 1 - Testing your knowledge of Exceptions **\n",
    "\n",
    "Answer the below questions\n",
    "\n",
    "1. What is the difference between a Syntax Error and a Runtime Error?\n",
    "2. Are exceptions Syntax Errors or Runtime Errors?\n",
    "3. How do exceptions help a programmer?\n",
    "4. Which exception is raised when the user tries to use a variable that has not been defined?"
   ]
  },
  {
   "cell_type": "markdown",
   "metadata": {},
   "source": [
    "<< Double click this cell and enter your result >>\n",
    "\n",
    "1. Syntax Errors are normally detection by the program before it is executed. Runtime errors and semantic errors are not detected before execution and are typically encountered during program execution resulting in the program terminating abnormally.\n",
    "\n",
    "2. Exceptions are errors detected during execution of the program.\n",
    "\n",
    "3. Exceptions are a way to gracefully detect and handle Runtime errors and avoid program crashes. \n",
    "\n",
    "4. When the user tries to use a variable that has not been defined it raises the NameError.\n"
   ]
  },
  {
   "cell_type": "markdown",
   "metadata": {},
   "source": [
    "#### Exercise 2 -  Raising Exceptions\n",
    "\n",
    "Write python programs that raise the following exceptions.\n",
    "\n",
    "1. ValueError\n",
    "2. TypeError\n",
    "3. IndexError\n",
    "4. KeyError"
   ]
  },
  {
   "cell_type": "code",
   "execution_count": 14,
   "metadata": {},
   "outputs": [
    {
     "name": "stdout",
     "output_type": "stream",
     "text": [
      "Please enter a number: abc\n",
      "Some error occurred. Please try again.    invalid literal for int() with base 10: 'abc'\n",
      "Please enter letters: 123\n",
      "Some error occurred. Please try again.    cannot concatenate 'str' and 'int' objects\n",
      "Please enter a number between 0 to 2: 4\n",
      "Wrong number entered, please try again.    list index out of range\n",
      "Please enter a number between 0 to 2: 5\n",
      "Wrong number entered, please try again.    5\n"
     ]
    }
   ],
   "source": [
    "### YOUR CODE GOES\n",
    "try:\n",
    "    val = 0\n",
    "    enterNum = raw_input(\"Please enter a number: \")\n",
    "    val = val + int(enterNum)\n",
    "except Exception as a:\n",
    "    print \"Some error occurred. Please try again.   \", a\n",
    "else: \n",
    "    print val\n",
    "\n",
    "try:\n",
    "    val = \"abc\"\n",
    "    enterLetters = int(raw_input(\"Please enter letters: \"))\n",
    "    val = val + enterLetters\n",
    "except Exception as b:\n",
    "    print \"Some error occurred. Please try again.   \", b\n",
    "else:\n",
    "    print val\n",
    "\n",
    "try:\n",
    "    myList = [1,2,3]\n",
    "    enterKey = int(raw_input(\"Please enter a number between 0 to 2: \"))\n",
    "    Item = myList[enterKey]\n",
    "except Exception as c:\n",
    "    print \"Wrong number entered, please try again.   \", c\n",
    "\n",
    "try:\n",
    "    myList = {1:\"a\", 2:\"b\", 3:\"c\"}\n",
    "    enterKey = int(raw_input(\"Please enter a number between 0 to 2: \"))\n",
    "    Item = myList[enterKey]\n",
    "except Exception as d:\n",
    "    print \"Wrong number entered, please try again.   \", d\n",
    "    \n",
    "### END CODE"
   ]
  },
  {
   "cell_type": "markdown",
   "metadata": {},
   "source": [
    "#### Exercise 3 - Handling Exceptions\n",
    "\n",
    "Write a Python program that asks the user to enter a GPA (integer values - 0,1,2,3 or 4). Convert the input from the user into an integer. Write an exception handler to handle the ValueError exception and display the message \"ValueError occurred. Please try again\". If the value entered by the user is not compatible with integer values the program will raise a ValueError exception and display the message from within the exception handler."
   ]
  },
  {
   "cell_type": "code",
   "execution_count": 1,
   "metadata": {},
   "outputs": [
    {
     "name": "stdout",
     "output_type": "stream",
     "text": [
      "Please enter your GPA: 6\n",
      "You entered an invalid GPA, please try again\n"
     ]
    }
   ],
   "source": [
    "### YOUR CODE GOES BELOW\n",
    "\n",
    "try:\n",
    "    gpa = raw_input(\"Please enter your GPA: \")\n",
    "    gpa = int(gpa)\n",
    "except:\n",
    "    print \"ValueError occurred. Please try again\"\n",
    "else:\n",
    "    if gpa >= 0 and gpa <=4:\n",
    "        print \"Thank you\"\n",
    "    else:\n",
    "        print \"You entered an invalid GPA, please try again\"\n",
    "\n",
    "### END CODE"
   ]
  },
  {
   "cell_type": "markdown",
   "metadata": {},
   "source": [
    "#### Exercise 4 - Displaying the error description in an Exception\n",
    "\n",
    "Create a list of **5** items in a grocery cart. For example, your list can be something like the below\n",
    "\n",
    "**Example of a list with 2 items:**\n",
    "groceryList = [\"suger\",\"rice\"]\n",
    "\n",
    "Write an exception handler to handle an IndexError exceptio and store the details of the exception in a variable called **details**. If the exception occurs, print out a message saying \"Exception Occurred\" along with the details (from **details** variable). \n",
    "\n",
    "In your program attempt to access the 6th item in the list. \n",
    "\n",
    "Since there are only 5 elements, the exception handler should be triggered and the message printed inside the exception should be printed."
   ]
  },
  {
   "cell_type": "code",
   "execution_count": 44,
   "metadata": {},
   "outputs": [
    {
     "name": "stdout",
     "output_type": "stream",
     "text": [
      "['fruit', 'meat', 'milk', 'bread', 'potato']\n",
      "Please choose a item in the list (0-4): 6\n",
      "Some error happened:  list index out of range\n"
     ]
    }
   ],
   "source": [
    "### YOUR CODE GOES BELOW\n",
    "\n",
    "details = \"\"\n",
    "groceryList = [\"fruit\",\"meat\",\"milk\",\"bread\",\"potato\"]\n",
    "print groceryList\n",
    "try:\n",
    "    choice = raw_input(\"Please choose a item in the list (0-4): \")\n",
    "    print groceryList[int(choice)]\n",
    "    \n",
    "except Exception as details:\n",
    "    print \"Some error happened: \", details\n",
    "    \n",
    "### END CODE"
   ]
  },
  {
   "cell_type": "markdown",
   "metadata": {},
   "source": [
    "#### Exercise 5 - Using loops to wait for a user to enter a valid value\n",
    "\n",
    "**This is a partial repeat of problem 1. You should be able to reuse that code**\n",
    "\n",
    "Write a Python program that asks the user to enter a GPA (integer values - 0,1,2,3 or 4). Convert the input from the user into an integer. Write an exception handler to handle the ValueError exception and display the message \"ValueError occurred. Please try again\". If the value entered by the user is not compatible with integer values the program will raise a ValueError exception and display the message from within the exception handler.\n",
    "\n",
    "Place the above code to get user input inside a **while** loop. As long as the user is entering an invalid numeric value, the program should **continue** to prompt the user to enter the GPA. When the user enters a correct value, the program should **break** out of the while loop and print the GPA.\n",
    "\n",
    "**Please see classwork for similar examples**"
   ]
  },
  {
   "cell_type": "code",
   "execution_count": 3,
   "metadata": {},
   "outputs": [
    {
     "name": "stdout",
     "output_type": "stream",
     "text": [
      "Please enter your GPA: 6\n",
      "You entered an invalid GPA, please try again\n",
      "Please enter your GPA: 7\n",
      "You entered an invalid GPA, please try again\n",
      "Please enter your GPA: 9\n",
      "You entered an invalid GPA, please try again\n",
      "Please enter your GPA: a\n",
      "ValueError occurred. Please try again\n",
      "Please enter your GPA: 1\n",
      "Thank you\n"
     ]
    }
   ],
   "source": [
    "### YOUR CODE GOES BELOW\n",
    "while True:\n",
    "    try:\n",
    "        gpa = raw_input(\"Please enter your GPA: \")\n",
    "        gpa = int(gpa)\n",
    "    except:\n",
    "        print \"ValueError occurred. Please try again\"\n",
    "    else:\n",
    "        if gpa >= 0 and gpa <=4:\n",
    "            print \"Thank you\"\n",
    "            break\n",
    "        else:\n",
    "            print \"You entered an invalid GPA, please try again\"\n",
    "\n",
    "### END CODE"
   ]
  },
  {
   "cell_type": "markdown",
   "metadata": {},
   "source": [
    "## OPTIONAL EXERCISES\n",
    "\n",
    "Below is a set of optional exercises. These will not be graded but the solutions will be posted. I would strongly encourage you to try these out if you are done with the mandatory homework exercises to improve your understanding of python."
   ]
  },
  {
   "cell_type": "markdown",
   "metadata": {},
   "source": [
    "#### Exercise 6\n",
    "\n",
    "Write a python program to build a simple chatbot. The chatbot will accept input from the user, check the input against a dictionary and display the corresponding value. \n",
    "\n",
    "Below is the dictionary that the chatbot will use.\n",
    "\n",
    "```\n",
    "conversationsDict = {\n",
    "'how are you':'I am fine, thank you.How are you today',\n",
    "'i am well':'Cool! How can I help you today',\n",
    "'can you tell me what the weather is like today':'Sure. It looks mostly sunny with a high of 80 degrees',\n",
    "'thank you very much':'You are welcome. Have a nice day'\n",
    "}\n",
    "```\n",
    "\n",
    "Note that the dictionary **key** is the value entered by the user and the **value** is the response from the chatbot. The chatbot must use the user input to look up the dictionary for a response. If a response is found, then the chatbot must print the response. If the key is Invalid, then a KeyError exception handler must handle the exception displaying the messsage \"Sorry, I did not get that\". It must then allow the user to repeat the question."
   ]
  },
  {
   "cell_type": "code",
   "execution_count": 3,
   "metadata": {},
   "outputs": [
    {
     "name": "stdout",
     "output_type": "stream",
     "text": [
      "? how are you\n",
      "I am fine, thank you.How are you today\n",
      "? i am well\n",
      "Cool! How can I help you today\n",
      "? let me see\n",
      "*** Sorry, I did not get that\n",
      "? can you tell me what the weather is like today\n",
      "Sure. It looks mostly sunny with a high of 80 degrees\n",
      "? great\n",
      "*** Sorry, I did not get that\n",
      "? thank you very much\n",
      "You are welcome. Have a nice day\n"
     ]
    }
   ],
   "source": [
    "### YOUR CODE GOES BELOW\n",
    "a=0\n",
    "conversationsDict = {'how are you':'I am fine, thank you.How are you today',\n",
    "'i am well':'Cool! How can I help you today',\n",
    "'can you tell me what the weather is like today':'Sure. It looks mostly sunny with a high of 80 degrees',\n",
    "'thank you very much':'You are welcome. Have a nice day'}\n",
    "while True:\n",
    "    try:\n",
    "        question = raw_input(\"? \")\n",
    "        response = conversationsDict[question]     \n",
    "    except:\n",
    "        print \"*** Sorry, I did not get that\"\n",
    "    else:\n",
    "        print response\n",
    "        a+=1\n",
    "        if a == 4:\n",
    "            break\n",
    "        \n",
    "### END CODE"
   ]
  },
  {
   "cell_type": "markdown",
   "metadata": {},
   "source": [
    "#### Exercise 7\n",
    "\n",
    "Write two Python  to compute the average of a list of numbers. The inputs to the function is a python **List**. The output is the average. The function must have an Exception handler to handle the **ZeroDivisionError exception**. \n",
    "\n",
    "Verify that the ZeroDivisionError handler works by passing in an empty list."
   ]
  },
  {
   "cell_type": "code",
   "execution_count": 46,
   "metadata": {},
   "outputs": [
    {
     "name": "stdout",
     "output_type": "stream",
     "text": [
      "Please enter number(s) separated by commas: \n",
      "No number entered, please try again.\n",
      "Please enter number(s) separated by commas: \n",
      "No number entered, please try again.\n",
      "Please enter number(s) separated by commas: 34,27,47,92,1\n",
      "The average is  40.20\n"
     ]
    }
   ],
   "source": [
    "### YOUR CODE GOES BELOW\n",
    "\n",
    "def findAverage(aveList):\n",
    "    total = 0\n",
    "    a = 0\n",
    "    for a in range(len(aveList)):\n",
    "        total = total + float(aveList[a])\n",
    "    return total/len(aveList)\n",
    "\n",
    "while True:\n",
    "    try:\n",
    "        averageList = []\n",
    "        enterNum = raw_input(\"Please enter number(s) separated by commas: \")\n",
    "        numList = enterNum.split(\",\")\n",
    "        print \"The average is %6.2f\" % findAverage(numList)\n",
    "        break\n",
    "    except:\n",
    "        print \"No number entered, please try again.\"\n",
    "\n",
    "### END CODE"
   ]
  },
  {
   "cell_type": "markdown",
   "metadata": {},
   "source": [
    "### Exercise 8\n",
    "\n",
    "Write a python program that accepts a sequence of words, some of them numbers. Attempt to perform an integer add on all the words that were entered. If a word that is not a number is encountered, use the ValueError to skip the next word. Display the resulting sum of all the numbers."
   ]
  },
  {
   "cell_type": "code",
   "execution_count": 57,
   "metadata": {},
   "outputs": [
    {
     "name": "stdout",
     "output_type": "stream",
     "text": [
      "Please enter number(s) and words separated by commas: my,34,name,23,is,84,celina,13,nice,to,meet,75,you,32\n",
      "['my', '34', 'name', '23', 'is', '84', 'celina', '13', 'nice', 'to', 'meet', '75', 'you', '32']\n",
      "The total of numbers entererd is  261\n"
     ]
    }
   ],
   "source": [
    "### YOUR CODE GOES BELOW\n",
    "\n",
    "enterList = []\n",
    "enterString = raw_input(\"Please enter number(s) and words separated by commas: \")\n",
    "enterList = enterString.split(\",\")\n",
    "print enterList\n",
    "\n",
    "a = 0\n",
    "total = 0\n",
    "\n",
    "for a in range(len(enterList)):\n",
    "    try:\n",
    "        total = total + int(enterList[a])\n",
    "    except:\n",
    "        continue\n",
    "    \n",
    "print \"The total of numbers entererd is \", total\n",
    "\n",
    "\n",
    "### END CODE"
   ]
  },
  {
   "cell_type": "code",
   "execution_count": null,
   "metadata": {
    "collapsed": true
   },
   "outputs": [],
   "source": []
  }
 ],
 "metadata": {
  "kernelspec": {
   "display_name": "Python 2",
   "language": "python",
   "name": "python2"
  },
  "language_info": {
   "codemirror_mode": {
    "name": "ipython",
    "version": 2
   },
   "file_extension": ".py",
   "mimetype": "text/x-python",
   "name": "python",
   "nbconvert_exporter": "python",
   "pygments_lexer": "ipython2",
   "version": "2.7.14"
  }
 },
 "nbformat": 4,
 "nbformat_minor": 2
}
