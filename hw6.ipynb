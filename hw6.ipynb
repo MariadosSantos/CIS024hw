{
 "cells": [
  {
   "cell_type": "markdown",
   "metadata": {},
   "source": [
    "\n",
    "# CIS024C - Spring 2018 - Monday 5:30-9:25pm \n",
    "\n",
    "## Homework 6\n",
    "\n",
    "Homework 6 covers exercises that involve working with functions\n",
    "\n",
    "The below sites have some interesting and useful information on working with files\n",
    "\n",
    "https://www.learnpython.org/en/Functions\n",
    "https://www.tutorialspoint.com/python/python_functions.htm\n",
    "\n",
    "You will need to download this notebook and use this as a starting point for your homework. You will just need to fill in the content of each code-block (cell) and execute. Once you have completed all the exercises, you will need to save and upload this to your github repository under a folder called hw5.\n",
    "\n",
    "Note also the exercises build on top of one another so you might be able to do the next exercise if you have not completed the previous exercise.\n",
    "\n",
    "Post any questions you have on our Slack at **cis-024c1.slack.com**\n",
    "\n",
    "** Slides ** for Week 6 can be found at \n",
    "\n",
    "https://docs.google.com/presentation/d/1XGV2NR0ZAAmQYjlRuy81zzlW2g5lWS8L6a7iRV-lreQ/edit?usp=sharing\n",
    "\n",
    "**Please refer back to hw1 and slack for instructions on how to setup your computer for developing using Python.**"
   ]
  },
  {
   "cell_type": "markdown",
   "metadata": {},
   "source": [
    "### Helpful Jupyter Commands\n",
    "\n",
    "Below are some useful commands to know when using Jupyter\n",
    "\n",
    "1. You can add a new cell by clicking on the \"+\" icon on top.\n",
    "2. You can delete a cell by selecting that cell and clicking on the \"scissors\" icon on top.\n",
    "3. You can execute a cell by either pressing shift+enter or selecting the \"play\" button on top.\n",
    "4. You can create a new file in Jupyter via the File menu->New Notebook option. Make sure to select Python 2 when creating your notebook.\n",
    "5. Also, for your code blocks make sure that Code is selected instead of another option like Markdown.\n",
    "6. Use the Enter key to go to the next line in a cell to enter the next statement.\n",
    "7. You can clear results by clicking on the Cell menu item and selecting Current Output->Clear or All Output->Clear depending on whether you are trying to just clear the output for one cell or for all cells.\n",
    "8. In case your program has crashed for some reason (infinite loop, for example), you can restart your Python session by select Kernel in the menu and selecting Restart.\n"
   ]
  },
  {
   "cell_type": "markdown",
   "metadata": {},
   "source": [
    "#### Check Python Version"
   ]
  },
  {
   "cell_type": "code",
   "execution_count": 1,
   "metadata": {},
   "outputs": [
    {
     "name": "stdout",
     "output_type": "stream",
     "text": [
      "Python 2.7.14 :: Anaconda, Inc.\r\n"
     ]
    }
   ],
   "source": [
    "!python --version"
   ]
  },
  {
   "cell_type": "markdown",
   "metadata": {},
   "source": [
    "#### Sample Exercises with Functions\n",
    "\n",
    "Refer to Week 6 slides for a recap of what happened in Week 6\n",
    "\n",
    "https://docs.google.com/presentation/d/1XGV2NR0ZAAmQYjlRuy81zzlW2g5lWS8L6a7iRV-lreQ/edit?usp=sharing"
   ]
  },
  {
   "cell_type": "markdown",
   "metadata": {},
   "source": [
    "**Exercise 1 - Testing your knowledge of functions **\n",
    "\n",
    "Answer the below questions\n",
    "\n",
    "1. What is a function in Python?\n",
    "2. What are the advantages of using functions?"
   ]
  },
  {
   "cell_type": "markdown",
   "metadata": {},
   "source": [
    "<< Double click this cell and enter your result >>\n",
    "\n",
    "1. Function is a block of codes that does a specific job and can be used over and over again.\n",
    "\n",
    "2. Functions are used to handle repetitive jobs thus streamlining coding."
   ]
  },
  {
   "cell_type": "markdown",
   "metadata": {},
   "source": [
    "#### Exercise 2 -  Max of three numbers\n",
    "\n",
    "Write a Python function to find the Max of three numbers.\n",
    "\n",
    "Make sure you invoke this function in your main program and display the result"
   ]
  },
  {
   "cell_type": "code",
   "execution_count": 50,
   "metadata": {},
   "outputs": [
    {
     "name": "stdout",
     "output_type": "stream",
     "text": [
      "Please enter a number: a\n",
      "Please enter a number: 1\n",
      "Please enter a number: f\n",
      "Please enter a number: 5\n",
      "Please enter a number: d\n",
      "Please enter a number: 4\n",
      "5 is the highest number.\n"
     ]
    }
   ],
   "source": [
    "### YOUR CODE GOES\n",
    "\n",
    "#Ask to input 3 numbers and return the max\n",
    "numList = []\n",
    "\n",
    "for a in range(3):\n",
    "    while True:\n",
    "        num = raw_input(\"Please enter a number: \")\n",
    "        if str.isdigit(num):    \n",
    "            numList.append(int(num))\n",
    "            break            \n",
    "    \n",
    "def findMax(inputList):\n",
    "   return max(inputList)\n",
    "\n",
    "print findMax(numList), \"is the highest number.\"\n",
    "\n",
    "### END CODE"
   ]
  },
  {
   "cell_type": "markdown",
   "metadata": {},
   "source": [
    "#### Exercise 3 - Finding the sum of numbers in a list\n",
    "\n",
    "Write a Python function to sum all the numbers in a list\n",
    "\n",
    "Make sure you invoke this function in your main program and display the result"
   ]
  },
  {
   "cell_type": "code",
   "execution_count": null,
   "metadata": {
    "collapsed": true
   },
   "outputs": [],
   "source": []
  },
  {
   "cell_type": "code",
   "execution_count": 49,
   "metadata": {},
   "outputs": [
    {
     "name": "stdout",
     "output_type": "stream",
     "text": [
      "Please enter a number: 1\n",
      "Please enter a number: 2\n",
      "Please enter a number: 3\n",
      "Please enter a number: 4\n",
      "Please enter a number: 5\n",
      "Please enter a number: 6\n",
      "The total is  21\n"
     ]
    }
   ],
   "source": [
    "### YOUR CODE GOES BELOW\n",
    "\n",
    "#Ask to input 6 numbers, add to a list and return the sum\n",
    "numList = []\n",
    "\n",
    "for a in range(6):\n",
    "    while True:\n",
    "        num = raw_input(\"Please enter a number: \")\n",
    "        if str.isdigit(num):    \n",
    "            numList.append(int(num))\n",
    "            break            \n",
    "\n",
    "def findSum(sumList):\n",
    "    return sum(sumList)\n",
    "\n",
    "print \"The total is \", findSum(numList)\n",
    "\n",
    "\n",
    "\n",
    "### END CODE"
   ]
  },
  {
   "cell_type": "markdown",
   "metadata": {},
   "source": [
    "#### Exercise 4 - Finding the product of numbers in a list\n",
    "\n",
    "Write a Python function to multiply all the numbers in a list\n",
    "\n",
    "Make sure you invoke this function in your main program and display the result"
   ]
  },
  {
   "cell_type": "code",
   "execution_count": 2,
   "metadata": {},
   "outputs": [
    {
     "name": "stdout",
     "output_type": "stream",
     "text": [
      "Please enter a number: 12\n",
      "Please enter a number: 54\n",
      "Please enter a number: 87\n",
      "Please enter a number: \n",
      "Please enter a number: 45\n",
      "The product is  2536920\n"
     ]
    }
   ],
   "source": [
    "### YOUR CODE GOES BELOW\n",
    "\n",
    "#Ask to input 4 numbers, add to a list and return the product\n",
    "numList = []\n",
    "\n",
    "for a in range(4):\n",
    "    while True:\n",
    "        num = raw_input(\"Please enter a number: \")\n",
    "        if str.isdigit(num):    \n",
    "            numList.append(int(num))\n",
    "            break\n",
    "            \n",
    "def calcProd(calcList):\n",
    "    prod = 1\n",
    "    for x in range(len(calcList)):\n",
    "        prod = prod * calcList[x]\n",
    "    return prod\n",
    "\n",
    "print \"The product is \", calcProd(numList)\n",
    "\n",
    "### END CODE"
   ]
  },
  {
   "cell_type": "markdown",
   "metadata": {},
   "source": [
    "#### Exercise 5 - Reversing a String\n",
    "\n",
    "Write a Python function to reverse a string\n",
    "\n",
    "Make sure you invoke this function in your main program and display the result"
   ]
  },
  {
   "cell_type": "code",
   "execution_count": 72,
   "metadata": {},
   "outputs": [
    {
     "name": "stdout",
     "output_type": "stream",
     "text": [
      "Please enter a string: Jack and Jill went up the hill\n",
      "String reversed:  llih eht pu tnew lliJ dna kcaJ\n"
     ]
    }
   ],
   "source": [
    "### YOUR CODE GOES BELOW\n",
    "\n",
    "inputString = \"\"\n",
    "\n",
    "inputString = str(raw_input(\"Please enter a string: \"))\n",
    "\n",
    "def reverseString(myString):\n",
    "    myString = myString[::-1]\n",
    "    return myString\n",
    "    \n",
    "print \"String reversed: \", reverseString(inputString)\n",
    "\n",
    "\n",
    "### END CODE"
   ]
  },
  {
   "cell_type": "markdown",
   "metadata": {},
   "source": [
    "## OPTIONAL EXERCISES\n",
    "\n",
    "Below is a set of optional exercises. These will not be graded but the solutions will be posted. I would strongly encourage you to try these out if you are done with the mandatory homework exercises to improve your understanding of python."
   ]
  },
  {
   "cell_type": "markdown",
   "metadata": {},
   "source": [
    "#### Exercise 6\n",
    "\n",
    "Write a Python function that accepts a string and calculate the number of upper case letters and lower case letters.\n",
    "\n",
    "Make sure you invoke this function in your main program and display the result"
   ]
  },
  {
   "cell_type": "code",
   "execution_count": 99,
   "metadata": {},
   "outputs": [
    {
     "name": "stdout",
     "output_type": "stream",
     "text": [
      "Please enter a string: There was nothing so VERY remarkable in that; nor did Alice think it so VERY much out of the way to hear the Rabbit say to itself, ‘Oh dear! Oh dear! I shall be late!’ (when she thought it over afterwards, it occurred to her that she ought to have wondered at this, but at the time it all seemed quite natural); but when the Rabbit actually TOOK A WATCH OUT OF ITS WAISTCOAT-POCKET, and looked at it, and then hurried on, Alice started to her feet, for it flashed across her mind that she had never before seen a rabbit with either a waistcoat-pocket, or a watch to take out of it, and burning with curiosity, she ran across the field after it, and fortunately was just in time to see it pop down a large rabbit-hole under the hedge.\n",
      "\n",
      "There are 49 uppercase and 520 lowercase letters \n"
     ]
    }
   ],
   "source": [
    "### YOUR CODE GOES BELOW\n",
    "\n",
    "# Ask for a string and count the numbers of uppercase and lowercase letters\n",
    "inputString = \"\"\n",
    "inputString = str(raw_input(\"Please enter a string: \"))\n",
    "\n",
    "def lettersCount(myString):\n",
    "    countUp = 0\n",
    "    countLow = 0\n",
    "    for x in myString:\n",
    "        if(x.isupper()):\n",
    "            countUp += 1\n",
    "        elif(x.islower()):\n",
    "            countLow += 1\n",
    "    return countUp, countLow\n",
    " \n",
    "print\n",
    "print \"There are %d uppercase and %d lowercase letters \" % (lettersCount(inputString))\n",
    "\n",
    "### END CODE"
   ]
  },
  {
   "cell_type": "markdown",
   "metadata": {},
   "source": [
    "#### Exercise 7\n",
    "\n",
    " Write a Python function to print the even numbers from a given list..\n",
    " \n",
    " Make sure you invoke this function in your main program and display the result"
   ]
  },
  {
   "cell_type": "code",
   "execution_count": 101,
   "metadata": {},
   "outputs": [
    {
     "name": "stdout",
     "output_type": "stream",
     "text": [
      "Please enter a number: 12\n",
      "Please enter a number: 33\n",
      "Please enter a number: 67\n",
      "Please enter a number: 52\n",
      "Please enter a number: 96\n",
      "Please enter a number: 35\n",
      "12\n",
      "52\n",
      "96\n"
     ]
    }
   ],
   "source": [
    "### YOUR CODE GOES BELOW\n",
    "\n",
    "#Ask to input 6 numbers, print all even numbers\n",
    "numList = []\n",
    "\n",
    "for a in range(6):\n",
    "    while True:\n",
    "        num = raw_input(\"Please enter a number: \")\n",
    "        if str.isdigit(num):    \n",
    "            numList.append(int(num))\n",
    "            break\n",
    "            \n",
    "def pickEven(numList):\n",
    "    for x in range(len(numList)):\n",
    "        if numList[x] % 2 == 0:\n",
    "            print numList[x]\n",
    "    return\n",
    "\n",
    "pickEven(numList)\n",
    "\n",
    "### END CODE"
   ]
  },
  {
   "cell_type": "markdown",
   "metadata": {},
   "source": [
    "#### Exercise 8\n",
    "\n",
    "Write a Python function that checks whether a passed string is palindrome or not.\n",
    "\n",
    "Make sure you invoke this function in your main program and display the result"
   ]
  },
  {
   "cell_type": "code",
   "execution_count": 112,
   "metadata": {},
   "outputs": [
    {
     "name": "stdout",
     "output_type": "stream",
     "text": [
      "Please enter a string: \n",
      "Please enter a string: racecar\n",
      "Please enter a string: flamingo\n",
      "Please enter a string: 1234321\n",
      "Unable to check, found zero length string.\n",
      "racecar is a Palindrome\n",
      "flamingo is NOT a Palindrome\n",
      "1234321 is a Palindrome\n"
     ]
    }
   ],
   "source": [
    "### YOUR CODE GOES BELOW\n",
    "\n",
    "#Ask to input 4 strings, check whether it is palindrome or not\n",
    "stringList = []\n",
    "\n",
    "for a in range(4):\n",
    "    enterString = raw_input(\"Please enter a string: \")\n",
    "    stringList.append(enterString)\n",
    "            \n",
    "def checkPalindrome(strList):    \n",
    "    for x in range(len(strList)):\n",
    "        chkString = strList[x]\n",
    "        # validate for 0 length\n",
    "        if len(chkString) == 0:\n",
    "            print \"Unable to check, found zero length string.\"\n",
    "        elif len(chkString) / 2 == 0 and chkString[0:int((len(chkString)/2))-1] == chkString[:int(len(chkString)/2):-1]:\n",
    "            print chkString, \"is a Palindrome\"\n",
    "        elif len(chkString) / 2 != 0 and chkString[0:(int(len(chkString)/2)):] == chkString[:int(len(chkString)/2):-1]:\n",
    "            print chkString, \"is a Palindrome\"\n",
    "        else:\n",
    "            print chkString, \"is NOT a Palindrome\"\n",
    "    return\n",
    "\n",
    "checkPalindrome(stringList)\n",
    "\n",
    "### END CODE"
   ]
  },
  {
   "cell_type": "markdown",
   "metadata": {
    "collapsed": true
   },
   "source": [
    "#### Exercise 9\n",
    "\n",
    "Write a recursive Python program to compute the fibonnaci number for a given index.\n",
    "\n",
    "This is what a fibonacci series is https://www.mathsisfun.com/numbers/fibonacci-sequence.html\n",
    "\n",
    "Make sure you invoke this function in your main program and display the result"
   ]
  },
  {
   "cell_type": "code",
   "execution_count": 1,
   "metadata": {},
   "outputs": [
    {
     "name": "stdout",
     "output_type": "stream",
     "text": [
      "Please enter a number: 18\n",
      "Fibonacci number for entered key is 2584\n"
     ]
    }
   ],
   "source": [
    "### YOUR CODE GOES BELOW\n",
    "\n",
    "# Ask for a key and then display the corresponding Fibonacci number\n",
    "while True:\n",
    "    num = raw_input(\"Please enter a number: \")\n",
    "    if str.isdigit(num):\n",
    "        num = int(num)\n",
    "        break     \n",
    "    \n",
    "def fib(n):\n",
    "    if n < 2: \n",
    "        return n\n",
    "    else: \n",
    "        return fib(n-1)+fib(n-2)\n",
    "\n",
    "print \"Fibonacci number for entered key is %d\" % (fib(num))\n",
    "\n",
    "### I found fib() funtion code online, since I don't understand it, I asked a coworker to explain it to me.\n",
    "### I don't think I will be able to write this on my own, but at least now I know how it works.\n",
    "\n",
    "### END CODE"
   ]
  },
  {
   "cell_type": "markdown",
   "metadata": {},
   "source": [
    "#### Exercise 10\n",
    "\n",
    "Write a python program to autocorrect user input using the edit distance method. \n",
    "\n",
    "Make sure you invoke this function in your main program and display the result"
   ]
  },
  {
   "cell_type": "code",
   "execution_count": null,
   "metadata": {
    "collapsed": true
   },
   "outputs": [],
   "source": [
    "### YOUR CODE GOES BELOW\n",
    "\n",
    "### Coming soon. I am reading about this and trying to unsderstand how to do it. I'm very confused at this time.\n",
    "\n",
    "### END CODE"
   ]
  }
 ],
 "metadata": {
  "kernelspec": {
   "display_name": "Python 2",
   "language": "python",
   "name": "python2"
  },
  "language_info": {
   "codemirror_mode": {
    "name": "ipython",
    "version": 2
   },
   "file_extension": ".py",
   "mimetype": "text/x-python",
   "name": "python",
   "nbconvert_exporter": "python",
   "pygments_lexer": "ipython2",
   "version": "2.7.14"
  }
 },
 "nbformat": 4,
 "nbformat_minor": 2
}
