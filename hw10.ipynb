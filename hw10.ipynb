{
 "cells": [
  {
   "cell_type": "markdown",
   "metadata": {},
   "source": [
    "\n",
    "# CIS024C - Spring 2018 - Monday 5:30-9:25pm \n",
    "\n",
    "## Homework 10\n",
    "\n",
    "Homework 10 covers object oriented programming in Python\n",
    "\n",
    "The below sites have some interesting and useful information on working with files\n",
    "\n",
    "https://drive.google.com/open?id=1OrcpXEmhvgcJxSlchIBsvmXST0lG_uKx\n",
    "http://www.tutorialspoint.com/python/python_classes_objects.htm\n",
    "\n",
    "You will need to download this notebook and use this as a starting point for your homework. You will just need to fill in the content of each code-block (cell) and execute. Once you have completed all the exercises, you will need to save and upload this to your github repository under a folder called hw10.\n",
    "\n",
    "Note also the exercises build on top of one another so you might be able to do the next exercise if you have not completed the previous exercise.\n",
    "\n",
    "Post any questions you have on our Slack at **cis-024c1.slack.com**\n",
    "\n",
    "** Slides ** for Week 10 can be found at \n",
    "\n",
    "https://docs.google.com/presentation/d/1AigvCKV1yb3PrrcT5xt3IqyAwGpv6IKMNWYUiQ2Oy6k/edit?usp=sharing\n",
    "\n",
    "**Please refer back to hw1 and slack for instructions on how to setup your computer for developing using Python.**"
   ]
  },
  {
   "cell_type": "markdown",
   "metadata": {},
   "source": [
    "### Helpful Jupyter Commands\n",
    "\n",
    "Below are some useful commands to know when using Jupyter\n",
    "\n",
    "1. You can add a new cell by clicking on the \"+\" icon on top.\n",
    "2. You can delete a cell by selecting that cell and clicking on the \"scissors\" icon on top.\n",
    "3. You can execute a cell by either pressing shift+enter or selecting the \"play\" button on top.\n",
    "4. You can create a new file in Jupyter via the File menu->New Notebook option. Make sure to select Python 2 when creating your notebook.\n",
    "5. Also, for your code blocks make sure that Code is selected instead of another option like Markdown.\n",
    "6. Use the Enter key to go to the next line in a cell to enter the next statement.\n",
    "7. You can clear results by clicking on the Cell menu item and selecting Current Output->Clear or All Output->Clear depending on whether you are trying to just clear the output for one cell or for all cells.\n",
    "8. In case your program has crashed for some reason (infinite loop, for example), you can restart your Python session by select Kernel in the menu and selecting Restart.\n"
   ]
  },
  {
   "cell_type": "markdown",
   "metadata": {},
   "source": [
    "#### Check Python Version"
   ]
  },
  {
   "cell_type": "code",
   "execution_count": 2,
   "metadata": {},
   "outputs": [
    {
     "name": "stdout",
     "output_type": "stream",
     "text": [
      "Python 2.7.14 :: Anaconda, Inc.\r\n"
     ]
    }
   ],
   "source": [
    "!python --version"
   ]
  },
  {
   "cell_type": "markdown",
   "metadata": {},
   "source": [
    "#### Sample Exercises with Exception Handling\n",
    "\n",
    "Week 10 Class Work can be found here\n",
    "\n",
    "https://github.com/cis024c/spring2018classwork/blob/master/week10/classwork_04162018.ipynb"
   ]
  },
  {
   "cell_type": "markdown",
   "metadata": {},
   "source": [
    "**Exercise 1 - Testing your knowledge of object oriented programming concepts **\n",
    "\n",
    "Answer the below questions\n",
    "\n",
    "1. Why do we need classes?\n",
    "2. What is encapsulation?"
   ]
  },
  {
   "cell_type": "markdown",
   "metadata": {},
   "source": [
    "<< Double click this cell and enter your result >>\n",
    "\n",
    "1. We need classes to help keep and organize data in a consistent and logical way. For example in case of student records, it's like designing a form and fill out the same set of informationin the same way for everybody. The data then could be reused or expanded on.\n",
    "\n",
    "2. Encapsulation is a way to protect attributes or methods. Attributes can be changed or methods can be called outside of the class. With encapsulation we could declare them private by adding 2 \"__\" in front of the name. \n",
    "    For attributes -  if declared private the attributes can only be change by a calling a method and changed inside the class. \n",
    "    For methods - if declared private the method can only be called inside the class.\n",
    "\n"
   ]
  },
  {
   "cell_type": "markdown",
   "metadata": {},
   "source": [
    "** Exercise 2 - Class creation **\n",
    "\n",
    "Create a Python class named **Employee** with the following attributes and methods\n",
    "\n",
    "Data members\n",
    "```\n",
    "1. employeeName  - type string\n",
    "2. employeeAge  - type int\n",
    "3. employeeSalary - type float\n",
    "```\n",
    "\n",
    "Methods:\n",
    "```\n",
    "1. getEmployee - returns employee name\n",
    "2. getEmployeeAge - gets the employee age\n",
    "3. getEmployeeSalary - returns the employee salary\n",
    "4. __init__ - initialize method accepts the name, age and salary of the employee\n",
    "```\n",
    "\n",
    "Create an object of type Employee and initialize with arbitrary values. Invoke the get methods and display the result."
   ]
  },
  {
   "cell_type": "code",
   "execution_count": 1,
   "metadata": {
    "collapsed": true
   },
   "outputs": [],
   "source": [
    "### YOUR CODE GOES BELOW\n",
    "\n",
    "class Employee:\n",
    "    \n",
    "    def __init__(self,employeeName=str,employeeAge=int, employeeSalary=float):\n",
    "        self.employeeName=employeeName\n",
    "        self.employeeAge=employeeAge\n",
    "        self.employeeSalary=employeeSalary\n",
    "                   \n",
    "                   \n",
    "    def getEmployee(self):\n",
    "        print \"Employee Name: \", self.employeeName\n",
    "        \n",
    "    def getEmployeeAge(self):\n",
    "        print \"Employee Name: \", self.employeeAge\n",
    "\n",
    "    def getEmployeeSalary(self):\n",
    "        print \"Employee Name: \", self.employeeSalary\n",
    "        \n",
    "    def displayInfo(self):\n",
    "        print(\"Name:\",self.employeeName)\n",
    "        print(\"Age :\",self.employeeAge)\n",
    "        print(\"Salary:\",self.employeeSalary)\n",
    "    \n",
    "### END CODE"
   ]
  },
  {
   "cell_type": "code",
   "execution_count": 2,
   "metadata": {
    "collapsed": true
   },
   "outputs": [],
   "source": [
    "emp_1 = Employee(\"Mary\", 35, 55000)"
   ]
  },
  {
   "cell_type": "code",
   "execution_count": 3,
   "metadata": {},
   "outputs": [
    {
     "name": "stdout",
     "output_type": "stream",
     "text": [
      "Employee Name:  Mary\n"
     ]
    }
   ],
   "source": [
    "emp_1.getEmployee()"
   ]
  },
  {
   "cell_type": "code",
   "execution_count": 4,
   "metadata": {},
   "outputs": [
    {
     "name": "stdout",
     "output_type": "stream",
     "text": [
      "Employee Name:  35\n"
     ]
    }
   ],
   "source": [
    "emp_1.getEmployeeAge()"
   ]
  },
  {
   "cell_type": "code",
   "execution_count": 5,
   "metadata": {},
   "outputs": [
    {
     "name": "stdout",
     "output_type": "stream",
     "text": [
      "Employee Name:  55000\n"
     ]
    }
   ],
   "source": [
    "emp_1.getEmployeeSalary()"
   ]
  },
  {
   "cell_type": "markdown",
   "metadata": {},
   "source": [
    "#### Exercise 3 - Private members\n",
    "\n",
    "In the above **Employee** class make the employeeName, employeeAge and employeeSalary private so that their access is restricted to only within the class."
   ]
  },
  {
   "cell_type": "code",
   "execution_count": 6,
   "metadata": {
    "collapsed": true
   },
   "outputs": [],
   "source": [
    "### YOUR CODE GOES BELOW\n",
    "\n",
    "class Employee:\n",
    "    \n",
    "    def __init__(self,employeeName=str,employeeAge=int, employeeSalary=float):\n",
    "        self.__employeeName=employeeName\n",
    "        self.__employeeAge=employeeAge\n",
    "        self.__employeeSalary=employeeSalary\n",
    "        \n",
    "    def displayInfo(self):\n",
    "        print(\"Name:\",self.__employeeName)\n",
    "        print(\"Age :\",self.__employeeAge)\n",
    "        print(\"Salary:\",self.__employeeSalary)\n",
    "        \n",
    "    def updateAge(self, employeeAge):\n",
    "        self.__employeeAge=employeeAge\n",
    "        \n",
    "### END CODE"
   ]
  },
  {
   "cell_type": "code",
   "execution_count": 7,
   "metadata": {
    "collapsed": true
   },
   "outputs": [],
   "source": [
    "emp_1 = Employee(\"Mary\", 35, 55000)"
   ]
  },
  {
   "cell_type": "code",
   "execution_count": 8,
   "metadata": {},
   "outputs": [
    {
     "name": "stdout",
     "output_type": "stream",
     "text": [
      "('Name:', 'Mary')\n",
      "('Age :', 35)\n",
      "('Salary:', 55000)\n"
     ]
    }
   ],
   "source": [
    "emp_1.displayInfo()"
   ]
  },
  {
   "cell_type": "code",
   "execution_count": 9,
   "metadata": {
    "collapsed": true
   },
   "outputs": [],
   "source": [
    "emp_1.employeeAge = 40"
   ]
  },
  {
   "cell_type": "code",
   "execution_count": 10,
   "metadata": {
    "collapsed": true
   },
   "outputs": [],
   "source": [
    "emp_1.__employeeAge = 40"
   ]
  },
  {
   "cell_type": "code",
   "execution_count": 11,
   "metadata": {},
   "outputs": [
    {
     "name": "stdout",
     "output_type": "stream",
     "text": [
      "('Name:', 'Mary')\n",
      "('Age :', 35)\n",
      "('Salary:', 55000)\n"
     ]
    }
   ],
   "source": [
    "emp_1.displayInfo()"
   ]
  },
  {
   "cell_type": "code",
   "execution_count": 12,
   "metadata": {
    "collapsed": true
   },
   "outputs": [],
   "source": [
    "emp_1.updateAge(40)"
   ]
  },
  {
   "cell_type": "code",
   "execution_count": 13,
   "metadata": {},
   "outputs": [
    {
     "name": "stdout",
     "output_type": "stream",
     "text": [
      "('Name:', 'Mary')\n",
      "('Age :', 40)\n",
      "('Salary:', 55000)\n"
     ]
    }
   ],
   "source": [
    "emp_1.displayInfo()"
   ]
  },
  {
   "cell_type": "markdown",
   "metadata": {},
   "source": [
    "#### Exercise 4 - Adding setters and working with a list of Employees\n",
    "\n",
    "In the **Employee** class add the following methods\n",
    "\n",
    "```\n",
    "1. setEmployeeAge - accepts age and sets it in the object\n",
    "2. setEmployeeName - accepts employee name and sets it in the object\n",
    "3. setEmployeeSalary - accepts employee salary and sets it i nthe object\n",
    "```\n",
    "\n",
    "Create a list of employees called employeeList. Initialize the list with three objects of type Employee. Initialize the object with the values \"None\" for employeeName, 0 for employeeAge and 0 for employeeSalary.\n",
    "\n",
    "Loop  through each employee in the employeeList. Each time, request the user to enter the name, age and salary of a different employee. Use the set methods to set the name, age and salary for each employee in the employeeList.\n",
    "\n",
    "Loop through each employee in the employeeList. Display the name, age and salary of each employee."
   ]
  },
  {
   "cell_type": "code",
   "execution_count": 15,
   "metadata": {
    "collapsed": true
   },
   "outputs": [],
   "source": [
    "### YOUR CODE GOES BELOW    \n",
    "    \n",
    "class Employee:\n",
    "    \n",
    "    def __init__(self, employeeName=None, employeeAge=0, employeeSalary=0):\n",
    "        self.__employeeName = employeeName\n",
    "        self.__employeeAge = employeeAge\n",
    "        self.__employeeSalary = employeeSalary\n",
    "        \n",
    "    def displayInfo(self):\n",
    "        print(\"Name:\",self.__employeeName)\n",
    "        print(\"Age :\",self.__employeeAge)\n",
    "        print(\"Salary:\",self.__employeeSalary)\n",
    "        print\n",
    "\n",
    "    def setEmployeeInfo(self, name, age, salary):\n",
    "        self.__employeeName = name\n",
    "        self.__employeeAge = age\n",
    "        self.__employeeSalary = salary\n",
    "\n",
    "          \n",
    "employeeList = []\n",
    "\n",
    "for a in range(3):\n",
    "    name = \"none\"\n",
    "    age = 0\n",
    "    salary = 0\n",
    "    employeeList.append(Employee(name, age, salary))   \n",
    "        \n",
    "### END CODE"
   ]
  },
  {
   "cell_type": "code",
   "execution_count": 16,
   "metadata": {},
   "outputs": [
    {
     "name": "stdout",
     "output_type": "stream",
     "text": [
      "('Name:', 'none')\n",
      "('Age :', 0)\n",
      "('Salary:', 0)\n",
      "\n",
      "('Name:', 'none')\n",
      "('Age :', 0)\n",
      "('Salary:', 0)\n",
      "\n",
      "('Name:', 'none')\n",
      "('Age :', 0)\n",
      "('Salary:', 0)\n",
      "\n"
     ]
    }
   ],
   "source": [
    "for a in range(3):\n",
    "    employeeList[a].displayInfo()"
   ]
  },
  {
   "cell_type": "code",
   "execution_count": 17,
   "metadata": {},
   "outputs": [
    {
     "name": "stdout",
     "output_type": "stream",
     "text": [
      "Please enter employee name: Mary\n",
      "Please enter employee age: 35\n",
      "Please enter employee salary: 55000\n",
      "Please enter employee name: John\n",
      "Please enter employee age: 38\n",
      "Please enter employee salary: 60000\n",
      "Please enter employee name: Dan\n",
      "Please enter employee age: 28\n",
      "Please enter employee salary: 45000\n"
     ]
    }
   ],
   "source": [
    "for a in range(3):\n",
    "    name = raw_input(\"Please enter employee name: \")\n",
    "    age = raw_input(\"Please enter employee age: \")\n",
    "    salary = raw_input(\"Please enter employee salary: \")\n",
    "    employeeList[a].setEmployeeInfo(name, age, salary)"
   ]
  },
  {
   "cell_type": "code",
   "execution_count": 18,
   "metadata": {},
   "outputs": [
    {
     "name": "stdout",
     "output_type": "stream",
     "text": [
      "('Name:', 'Mary')\n",
      "('Age :', '35')\n",
      "('Salary:', '55000')\n",
      "\n",
      "('Name:', 'John')\n",
      "('Age :', '38')\n",
      "('Salary:', '60000')\n",
      "\n",
      "('Name:', 'Dan')\n",
      "('Age :', '28')\n",
      "('Salary:', '45000')\n",
      "\n"
     ]
    }
   ],
   "source": [
    "for a in range(3):\n",
    "    employeeList[a].displayInfo()"
   ]
  },
  {
   "cell_type": "markdown",
   "metadata": {},
   "source": [
    "#### Exercise 5 -  Creating a Python calculator class\n",
    "\n",
    "Create a Python class called Calculator. \n",
    "\n",
    "The class has the following data members\n",
    "\n",
    "```\n",
    "1. number1 - type float\n",
    "2. number2 - type float\n",
    "```\n",
    "\n",
    "The class must have the below methods\n",
    "\n",
    "```\n",
    "1. add - adds two numbers and returns the result\n",
    "2. subtract - subtracts the first number from the second number and returns the result\n",
    "3. multiply - multiply two numbers and returns the result\n",
    "4. divide - divide the first number by the second number and returns the result\n",
    "5. __init__ - accepts two numbers and uses those numbers to initialize number1 and number2 respectively\n",
    "```\n",
    "\n",
    "Create an object of the Calculator class. Initialize it with any two arbitrary numbers. Invoke the methods add, subtract, multiple and divide and display the result\n",
    "\n",
    "\n"
   ]
  },
  {
   "cell_type": "code",
   "execution_count": 29,
   "metadata": {
    "collapsed": true
   },
   "outputs": [],
   "source": [
    "### YOUR CODE GOES \n",
    "\n",
    "class Calc:\n",
    "    \n",
    "    def __init__(self, num1=float, num2=float):\n",
    "        self.num1=num1\n",
    "        self.num2=num2\n",
    "        \n",
    "    def add(self):\n",
    "        return self.num1+self.num2\n",
    "    \n",
    "    def subtract(self):\n",
    "        return self.num1-self.num2\n",
    "    \n",
    "    def multiply(self):\n",
    "        return self.num1*self.num2\n",
    "    \n",
    "    def divide(self):\n",
    "        return self.num1/self.num2\n",
    "\n",
    "### END CODE"
   ]
  },
  {
   "cell_type": "code",
   "execution_count": 30,
   "metadata": {
    "collapsed": true
   },
   "outputs": [],
   "source": [
    "calc_1=Calc(96.0,28.0)"
   ]
  },
  {
   "cell_type": "code",
   "execution_count": 31,
   "metadata": {},
   "outputs": [
    {
     "data": {
      "text/plain": [
       "124.0"
      ]
     },
     "execution_count": 31,
     "metadata": {},
     "output_type": "execute_result"
    }
   ],
   "source": [
    "Calc.add(calc_1)"
   ]
  },
  {
   "cell_type": "code",
   "execution_count": 32,
   "metadata": {},
   "outputs": [
    {
     "data": {
      "text/plain": [
       "68.0"
      ]
     },
     "execution_count": 32,
     "metadata": {},
     "output_type": "execute_result"
    }
   ],
   "source": [
    "Calc.subtract(calc_1)"
   ]
  },
  {
   "cell_type": "code",
   "execution_count": 33,
   "metadata": {},
   "outputs": [
    {
     "data": {
      "text/plain": [
       "2688.0"
      ]
     },
     "execution_count": 33,
     "metadata": {},
     "output_type": "execute_result"
    }
   ],
   "source": [
    "Calc.multiply(calc_1)"
   ]
  },
  {
   "cell_type": "code",
   "execution_count": 34,
   "metadata": {},
   "outputs": [
    {
     "data": {
      "text/plain": [
       "3.4285714285714284"
      ]
     },
     "execution_count": 34,
     "metadata": {},
     "output_type": "execute_result"
    }
   ],
   "source": [
    "Calc.divide(calc_1)"
   ]
  },
  {
   "cell_type": "markdown",
   "metadata": {},
   "source": [
    "# Optional Exercise"
   ]
  },
  {
   "cell_type": "markdown",
   "metadata": {},
   "source": [
    "#### Exercise 6"
   ]
  },
  {
   "cell_type": "markdown",
   "metadata": {
    "collapsed": true
   },
   "source": [
    "In the next two problems, you’ll be building an address book using object-­‐oriented programming in Python. To begin, you’ll define a Person class. You’ll use this class in the next problem to build your address book – each entry in your address book will be an instance of the Person class.\n",
    "\n",
    "To begin, define the    init    and    str    methods for the Person class. Read the Python documentation if needed to help you understand what    init__ and    str \t need to do.\n",
    "\n",
    "Here’s an example interaction in the Python shell demonstrating how your class should work after implementing these two methods:"
   ]
  },
  {
   "cell_type": "raw",
   "metadata": {},
   "source": [
    "Emily = Person(“Zhang”, “Emily”, “5559358150”, “emzhang@mit.edu”)\n",
    "print Emily\n",
    "Zhang, Emily -- Phone Number: 5559358150 -- Email Address(es): emzhang@mit.edu\n",
    "Wesley = Person(“Graybill”, “Wesley”, “5551940325”, [‘wgray496@mit.edu’, ‘wdgraybill@gmail.com’])\n",
    "print Wesley\n",
    "Graybill, Wesley -- Phone Number: 5551940325 -- Email Address(es): wgray496@mit.edu, wdgraybill@gmail.com"
   ]
  },
  {
   "cell_type": "code",
   "execution_count": 35,
   "metadata": {
    "collapsed": true
   },
   "outputs": [],
   "source": [
    "### YOUR CODE GOES \n",
    "\n",
    "class Person:\n",
    "    \n",
    "    def __init__(self, lastName, firstName, phoneNum, emailAddress):\n",
    "        self.__lastName = lastName\n",
    "        self.__firstName = firstName\n",
    "        self.__phoneNum = phoneNum\n",
    "        self.__emailAddress = emailAddress\n",
    "        \n",
    "    def __str__(self):\n",
    "        if type(self.__emailAddress)==list:\n",
    "            return \"%s, %s -- Phone Numer: %s -- Email Address(es): \" %(self.__lastName, self.__firstName, self.__phoneNum)+\", \".join(self.__emailAddress)\n",
    "        else:\n",
    "            return \"%s, %s -- Phone Numer: %s -- Email Address(es): %s\" %(self.__lastName, self.__firstName, self.__phoneNum, self.__emailAddress)\n",
    "### END CODE"
   ]
  },
  {
   "cell_type": "code",
   "execution_count": 36,
   "metadata": {
    "collapsed": true
   },
   "outputs": [],
   "source": [
    "Emily = Person(\"Zhang\", \"Emily\", \"5559358150\", \"emzhang@mit.edu\")"
   ]
  },
  {
   "cell_type": "code",
   "execution_count": 37,
   "metadata": {},
   "outputs": [
    {
     "name": "stdout",
     "output_type": "stream",
     "text": [
      "Zhang, Emily -- Phone Numer: 5559358150 -- Email Address(es): emzhang@mit.edu\n"
     ]
    }
   ],
   "source": [
    "print Emily"
   ]
  },
  {
   "cell_type": "code",
   "execution_count": 38,
   "metadata": {
    "collapsed": true
   },
   "outputs": [],
   "source": [
    "Wesley = Person(\"Graybill\", \"Wesley\", \"5551940325\", ['wgray496@mit.edu', 'wdgraybill@gmail.com'])"
   ]
  },
  {
   "cell_type": "code",
   "execution_count": 39,
   "metadata": {},
   "outputs": [
    {
     "name": "stdout",
     "output_type": "stream",
     "text": [
      "Graybill, Wesley -- Phone Numer: 5551940325 -- Email Address(es): wgray496@mit.edu, wdgraybill@gmail.com\n"
     ]
    }
   ],
   "source": [
    "print Wesley"
   ]
  },
  {
   "cell_type": "markdown",
   "metadata": {},
   "source": [
    "#### Exercise 7"
   ]
  },
  {
   "cell_type": "markdown",
   "metadata": {},
   "source": [
    "In this problem, you will use your Person class from the previous problem to create an address book for storing the contacts of your friends and family. It should allow you to search the address book for a friend, and return their contact information.\n",
    "\n",
    "Begin by defining an   init   method. Don’t forget about Python's built-­‐in dictionary data type.\n",
    "\n",
    "Next, write a method add_contact that allows you to add a new person to the address book.\n",
    "\n",
    "Finally, write a method lookup_contact that looks up a contact by last name. The method should accept the last name as an argument, and print each contact that matches the last name on a new line. As an additional challenge, extend this method to allow users to optionally specify a first name to narrow down the results when multiple contacts have the same last name. To learn more about optional arguments in Python, search for terms such as “optional arguments in Python” and “default arguments in Python”.\n",
    "\n",
    "For example, suppose the contact book contains entries for both Ali Kamil, and his wife Sama Kamil. The following is an example output:\n"
   ]
  },
  {
   "cell_type": "raw",
   "metadata": {},
   "source": [
    ">>> a = AddressBook()\n",
    ">>> a.add_person(Person(“Kamil”, “Ali”, … ))\n",
    ">>> a.add_person(Person(“Kamil”, “Sama”, … ))\n",
    ">>> a.lookup_contact(“Kamil”) Kamil, Ali -- Phone Number: … Kamil, Sama -- Phone Number: …\n",
    ">>> a.lookup_contact(“Kamil”, “Ali”)\n",
    "Kamil, Ali -- Phone Number: …\n"
   ]
  },
  {
   "cell_type": "code",
   "execution_count": 1,
   "metadata": {},
   "outputs": [],
   "source": [
    "### YOUR CODE GOES \n",
    "\n",
    "class Person:\n",
    "    global address\n",
    "    address = {}\n",
    "    \n",
    "    def __init__(self, name):\n",
    "        self.__addContact(name)\n",
    "                 \n",
    "    def __addContact(self, name):\n",
    "        global address\n",
    "        lname = raw_input(\"Please enter last name: \")\n",
    "        fname = raw_input(\"Please enter first name: \")\n",
    "        phone = raw_input(\"Please enter phone number: \")\n",
    "        email = raw_input(\"Please enter email address: \")\n",
    "        personInfo = {\"lastName\":lname, \"firstName\":fname, \"phoneNum\":phone, \"emailAddress\":email}\n",
    "        if name in address:\n",
    "            address[name].append(personInfo)    ### If last name exist, append\n",
    "        else:\n",
    "            address[name]=[personInfo]          ### If name do not exist, create key\n",
    "\n",
    "    def lookupContact(self, checkName, secName=\"\"):\n",
    "        global address\n",
    "        if address.get(checkName)!= None:       \n",
    "            info = address.get(checkName)        \n",
    "            if len(info)>1:                     ### If more than 1 result, check first name, else display all\n",
    "                for x in range(len(info)):\n",
    "                    if secName in info[x][\"firstName\"]:\n",
    "                        print \"%s, %s -- Phone Numer: %s -- Email Address: %s\" %(info[x][\"lastName\"], info[x][\"firstName\"], info[x][\"phoneNum\"], info[x][\"emailAddress\"])   \n",
    "            else:\n",
    "                for x in range(len(info)):\n",
    "                    print \"%s, %s -- Phone Numer: %s -- Email Address: %s\" %(info[x][\"lastName\"], info[x][\"firstName\"], info[x][\"phoneNum\"], info[x][\"emailAddress\"])\n",
    "                        \n",
    "        else:\n",
    "            print \"%s is not in address book\" % checkName\n",
    "                     \n",
    "### END CODE"
   ]
  },
  {
   "cell_type": "code",
   "execution_count": 2,
   "metadata": {},
   "outputs": [
    {
     "name": "stdout",
     "output_type": "stream",
     "text": [
      "Please enter last name: Santos\n",
      "Please enter first name: Celina\n",
      "Please enter phone number: 1234567890\n",
      "Please enter email address: celina@gmail.com\n"
     ]
    }
   ],
   "source": [
    "a=Person(\"Santos\")"
   ]
  },
  {
   "cell_type": "code",
   "execution_count": 3,
   "metadata": {},
   "outputs": [
    {
     "name": "stdout",
     "output_type": "stream",
     "text": [
      "Please enter last name: Santos\n",
      "Please enter first name: Alice\n",
      "Please enter phone number: 839186536378\n",
      "Please enter email address: alice@hotmail.com\n"
     ]
    }
   ],
   "source": [
    "a=Person(\"Santos\")"
   ]
  },
  {
   "cell_type": "code",
   "execution_count": 4,
   "metadata": {},
   "outputs": [
    {
     "name": "stdout",
     "output_type": "stream",
     "text": [
      "Please enter last name: Marco\n",
      "Please enter first name: Polo\n",
      "Please enter phone number: 917653793920\n",
      "Please enter email address: polo@mail.com\n"
     ]
    }
   ],
   "source": [
    "a=Person(\"Marco\")"
   ]
  },
  {
   "cell_type": "code",
   "execution_count": 5,
   "metadata": {},
   "outputs": [
    {
     "name": "stdout",
     "output_type": "stream",
     "text": [
      "Please enter last name: Edson\n",
      "Please enter first name: Dan\n",
      "Please enter phone number: 81735467848\n",
      "Please enter email address: dan@yahoo.com\n"
     ]
    }
   ],
   "source": [
    "a=Person(\"Edson\")"
   ]
  },
  {
   "cell_type": "code",
   "execution_count": 6,
   "metadata": {},
   "outputs": [
    {
     "name": "stdout",
     "output_type": "stream",
     "text": [
      "Santos, Celina -- Phone Numer: 1234567890 -- Email Address: celina@gmail.com\n",
      "Santos, Alice -- Phone Numer: 839186536378 -- Email Address: alice@hotmail.com\n"
     ]
    }
   ],
   "source": [
    "a.lookupContact(\"Santos\")"
   ]
  },
  {
   "cell_type": "code",
   "execution_count": 7,
   "metadata": {},
   "outputs": [
    {
     "name": "stdout",
     "output_type": "stream",
     "text": [
      "Santos, Celina -- Phone Numer: 1234567890 -- Email Address: celina@gmail.com\n"
     ]
    }
   ],
   "source": [
    "a.lookupContact(\"Santos\", \"Celina\")"
   ]
  },
  {
   "cell_type": "code",
   "execution_count": 8,
   "metadata": {},
   "outputs": [
    {
     "name": "stdout",
     "output_type": "stream",
     "text": [
      "Smith is not in address book\n"
     ]
    }
   ],
   "source": [
    "a.lookupContact(\"Smith\")"
   ]
  },
  {
   "cell_type": "code",
   "execution_count": 9,
   "metadata": {},
   "outputs": [
    {
     "name": "stdout",
     "output_type": "stream",
     "text": [
      "{'Edson': [{'emailAddress': 'dan@yahoo.com', 'lastName': 'Edson', 'phoneNum': '81735467848', 'firstName': 'Dan'}], 'Santos': [{'emailAddress': 'celina@gmail.com', 'lastName': 'Santos', 'phoneNum': '1234567890', 'firstName': 'Celina'}, {'emailAddress': 'alice@hotmail.com', 'lastName': 'Santos', 'phoneNum': '839186536378', 'firstName': 'Alice'}], 'Marco': [{'emailAddress': 'polo@mail.com', 'lastName': 'Marco', 'phoneNum': '917653793920', 'firstName': 'Polo'}]}\n"
     ]
    }
   ],
   "source": [
    "print address"
   ]
  },
  {
   "cell_type": "code",
   "execution_count": null,
   "metadata": {
    "collapsed": true
   },
   "outputs": [],
   "source": []
  },
  {
   "cell_type": "code",
   "execution_count": null,
   "metadata": {
    "collapsed": true
   },
   "outputs": [],
   "source": []
  }
 ],
 "metadata": {
  "kernelspec": {
   "display_name": "Python 2",
   "language": "python",
   "name": "python2"
  },
  "language_info": {
   "codemirror_mode": {
    "name": "ipython",
    "version": 2
   },
   "file_extension": ".py",
   "mimetype": "text/x-python",
   "name": "python",
   "nbconvert_exporter": "python",
   "pygments_lexer": "ipython2",
   "version": "2.7.14"
  }
 },
 "nbformat": 4,
 "nbformat_minor": 2
}
